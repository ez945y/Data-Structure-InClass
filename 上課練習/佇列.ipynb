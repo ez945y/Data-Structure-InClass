{
 "cells": [
  {
   "cell_type": "code",
   "execution_count": 1,
   "id": "d343708e",
   "metadata": {},
   "outputs": [],
   "source": [
    "class queue():\n",
    "    def __init__(self, max = 5):\n",
    "        self.max = max\n",
    "        self.queue = [-1] * self.max\n",
    "        self.head = 0\n",
    "        self.tail = 0\n",
    "        self.flag = 0\n",
    "        \n",
    "    def A_queue(self, x):\n",
    "        if self.isFull():\n",
    "            print(\"滿了\")\n",
    "        else:\n",
    "            self.queue[self.tail]=x\n",
    "            self.tail+=1\n",
    "            self.tail = self.tail % self.max\n",
    "            if self.tail ==self.head:\n",
    "                self.flag = 1\n",
    "                \n",
    "    def D_queue(self):\n",
    "        if self.isEmpty():\n",
    "            print('空了')\n",
    "        else:\n",
    "            self.head+=1\n",
    "            print(self.queue[self.head-1])\n",
    "            self.head = self.head % self.max\n",
    "            if self.tail ==self.head:\n",
    "                self.flag = 0\n",
    "                \n",
    "    def L_queue(self):\n",
    "        if self.isEmpty():\n",
    "            print('空了')\n",
    "        else:\n",
    "            if self.tail > self.head:\n",
    "                return self.queue[self.head:self.tail].__str__()\n",
    "            else:\n",
    "                return (self.queue[0:self.tail]+self.queue[self.head:]).__str__()\n",
    "            \n",
    "    def isEmpty(self):\n",
    "        return self.head == self.tail and self.flag == 0\n",
    "    \n",
    "    def isFull(self):\n",
    "        return self.head == self.tail and self.flag == 1"
   ]
  },
  {
   "cell_type": "code",
   "execution_count": 2,
   "id": "90fa95b8",
   "metadata": {},
   "outputs": [
    {
     "data": {
      "text/plain": [
       "\"['鼠', '牛', '虎', '兔', '龍']\""
      ]
     },
     "execution_count": 2,
     "metadata": {},
     "output_type": "execute_result"
    }
   ],
   "source": [
    "que = queue(5)\n",
    "que.A_queue(\"鼠\")\n",
    "que.A_queue(\"牛\")\n",
    "que.A_queue(\"虎\")\n",
    "que.A_queue(\"兔\")\n",
    "que.A_queue(\"龍\")\n",
    "que.L_queue()"
   ]
  },
  {
   "cell_type": "code",
   "execution_count": 3,
   "id": "01335fff",
   "metadata": {},
   "outputs": [
    {
     "name": "stdout",
     "output_type": "stream",
     "text": [
      "鼠\n"
     ]
    }
   ],
   "source": [
    "que.D_queue()"
   ]
  },
  {
   "cell_type": "code",
   "execution_count": 4,
   "id": "fde5eb8f",
   "metadata": {},
   "outputs": [
    {
     "data": {
      "text/plain": [
       "\"['蛇', '牛', '虎', '兔', '龍']\""
      ]
     },
     "execution_count": 4,
     "metadata": {},
     "output_type": "execute_result"
    }
   ],
   "source": [
    "que.A_queue(\"蛇\")\n",
    "que.L_queue()"
   ]
  },
  {
   "cell_type": "code",
   "execution_count": 10,
   "id": "0c5a7f17",
   "metadata": {},
   "outputs": [],
   "source": [
    "def fib(n=10)-> int:\n",
    "    if n == 0:\n",
    "        return 0\n",
    "    elif n == 1:\n",
    "        return 1\n",
    "    else:\n",
    "        return(fib(n -1) + fib(n-2))\n"
   ]
  },
  {
   "cell_type": "code",
   "execution_count": 11,
   "id": "3f87cc63",
   "metadata": {},
   "outputs": [
    {
     "data": {
      "text/plain": [
       "55"
      ]
     },
     "execution_count": 11,
     "metadata": {},
     "output_type": "execute_result"
    }
   ],
   "source": [
    "fib(10)"
   ]
  },
  {
   "cell_type": "code",
   "execution_count": 43,
   "id": "9a7feded",
   "metadata": {},
   "outputs": [],
   "source": [
    "def fib_dp(n=10):\n",
    "    dp=['']*10\n",
    "    dp[0] = 0\n",
    "    dp[1] = 1\n",
    "    print(dp[0])\n",
    "    print(dp[1])\n",
    "    for i in range(2, 10):\n",
    "        tmp = dp[i-1]\n",
    "        dp[i] = tmp + dp[i-2]\n",
    "        dp[i-2] = tmp\n",
    "        print(dp[i])\n",
    "        "
   ]
  },
  {
   "cell_type": "code",
   "execution_count": 44,
   "id": "eb638819",
   "metadata": {},
   "outputs": [
    {
     "name": "stdout",
     "output_type": "stream",
     "text": [
      "0\n",
      "1\n",
      "1\n",
      "2\n",
      "3\n",
      "5\n",
      "8\n",
      "13\n",
      "21\n",
      "34\n"
     ]
    }
   ],
   "source": [
    "fib_dp(10)"
   ]
  },
  {
   "cell_type": "code",
   "execution_count": null,
   "id": "7b7c890a",
   "metadata": {},
   "outputs": [],
   "source": []
  }
 ],
 "metadata": {
  "kernelspec": {
   "display_name": "Python 3 (ipykernel)",
   "language": "python",
   "name": "python3"
  },
  "language_info": {
   "codemirror_mode": {
    "name": "ipython",
    "version": 3
   },
   "file_extension": ".py",
   "mimetype": "text/x-python",
   "name": "python",
   "nbconvert_exporter": "python",
   "pygments_lexer": "ipython3",
   "version": "3.7.0"
  }
 },
 "nbformat": 4,
 "nbformat_minor": 5
}
