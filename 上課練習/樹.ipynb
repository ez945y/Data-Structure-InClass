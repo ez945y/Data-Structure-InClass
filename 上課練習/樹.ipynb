{
 "cells": [
  {
   "cell_type": "code",
   "execution_count": 1,
   "id": "2e957482",
   "metadata": {},
   "outputs": [],
   "source": [
    "class tree:\n",
    "    def __init__(self):\n",
    "        self.data = 0\n",
    "        self.left = None\n",
    "        self.right = None"
   ]
  },
  {
   "cell_type": "code",
   "execution_count": 2,
   "id": "40829843",
   "metadata": {},
   "outputs": [],
   "source": [
    "def pre_order(ptr):\n",
    "    if ptr != None:\n",
    "        print('[%2d] ' %ptr.data,end='')\n",
    "        pre_order(ptr.left)\n",
    "        pre_order(ptr.right)\n"
   ]
  },
  {
   "cell_type": "code",
   "execution_count": 3,
   "id": "84ca936f",
   "metadata": {},
   "outputs": [],
   "source": [
    "def in_order(ptr):\n",
    "    if ptr != None:\n",
    "        in_order(ptr.left)\n",
    "        print('[%2d] ' %ptr.data,end='')\n",
    "        in_order(ptr.right)"
   ]
  },
  {
   "cell_type": "code",
   "execution_count": 4,
   "id": "ed90d060",
   "metadata": {},
   "outputs": [],
   "source": [
    "def post_order(ptr):\n",
    "    if ptr != None:\n",
    "        post_order(ptr.left)\n",
    "        post_order(ptr.right)\n",
    "        print('[%2d] ' %ptr.data,end='')\n"
   ]
  },
  {
   "cell_type": "code",
   "execution_count": 5,
   "id": "60ce6d61",
   "metadata": {},
   "outputs": [],
   "source": [
    "def create_tree(root,val): \n",
    "    newnode = tree()\n",
    "    newnode.data = val\n",
    "    newnode.left = None\n",
    "    newnode.right = None\n",
    "    if root == None:\n",
    "        root = newnode\n",
    "        return root\n",
    "    else:\n",
    "        current = root\n",
    "        while current != None:\n",
    "            backup = current\n",
    "            if current.data > val:\n",
    "                current = current.left\n",
    "            else:\n",
    "                current = current.right\n",
    "        if backup.data > val:\n",
    "            backup.left = newnode\n",
    "        else:\n",
    "            backup.right = newnode\n",
    "    return root"
   ]
  },
  {
   "cell_type": "code",
   "execution_count": 6,
   "id": "43f69a91",
   "metadata": {},
   "outputs": [],
   "source": [
    "def search(ptr,val): \n",
    "    i=1\n",
    "    while True:\n",
    "        if ptr==None: \n",
    "            return None\n",
    "        if ptr.data==val: \n",
    "            print('共搜尋 %3d 次' %i)\n",
    "            return ptr\n",
    "        elif ptr.data > val: \n",
    "            ptr=ptr.left\n",
    "        else:\n",
    "            ptr=ptr.right\n",
    "        i+=1"
   ]
  },
  {
   "cell_type": "code",
   "execution_count": 7,
   "id": "8e3204f1",
   "metadata": {},
   "outputs": [
    {
     "name": "stdout",
     "output_type": "stream",
     "text": [
      "[原始陣列內容]\n",
      "[ 7] [ 4] [ 1] [ 5] [16] [ 8] [11] [12] [15] [ 9] [ 2] \n",
      "請輸入搜尋值：7\n",
      "共搜尋   1 次\n",
      "要找的 [  7] 有找到!!\n"
     ]
    }
   ],
   "source": [
    "arr = [7,4,1,5,16,8,11,12,15,9,2]\n",
    "ptr = None\n",
    "print('[原始陣列內容]')\n",
    "for i in range(11):\n",
    "    ptr = create_tree(ptr,arr[i]) \n",
    "    print('[%2d] ' %arr[i],end='')\n",
    "print()\n",
    "data = int(input('請輸入搜尋值：'))\n",
    "if search(ptr,data) != None : \n",
    "    print('要找的 [%3d] 有找到!!' %data)\n",
    "else:\n",
    "    print('您要找的值沒找到!!')\n"
   ]
  },
  {
   "cell_type": "code",
   "execution_count": 8,
   "id": "a0162e26",
   "metadata": {},
   "outputs": [
    {
     "name": "stdout",
     "output_type": "stream",
     "text": [
      "請輸入搜尋鍵值：6\n",
      "[ 1] [ 2] [ 4] [ 5] [ 6] [ 7] [ 8] [ 9] [11] [12] [15] [16] "
     ]
    }
   ],
   "source": [
    "data = int(input('請輸入搜尋鍵值：'))\n",
    "if search(ptr,data) != None: \n",
    "    print('二元樹中有此節點了!')\n",
    "else:\n",
    "    ptr = create_tree(ptr,data)\n",
    "    in_order(ptr)"
   ]
  },
  {
   "cell_type": "code",
   "execution_count": 9,
   "id": "0f4c48f4",
   "metadata": {},
   "outputs": [
    {
     "name": "stdout",
     "output_type": "stream",
     "text": [
      "請輸入搜尋鍵值：10\n",
      "[ 7] [ 4] [ 1] [ 2] [ 5] [ 6] [16] [ 8] [11] [ 9] [10] [12] [15] "
     ]
    }
   ],
   "source": [
    "data = int(input('請輸入搜尋鍵值：'))\n",
    "if search(ptr,data) != None: \n",
    "    print('二元樹中有此節點了!')\n",
    "else:\n",
    "    ptr = create_tree(ptr,data)\n",
    "    pre_order(ptr)"
   ]
  },
  {
   "cell_type": "code",
   "execution_count": 10,
   "id": "d780da1c",
   "metadata": {},
   "outputs": [
    {
     "name": "stdout",
     "output_type": "stream",
     "text": [
      "請輸入搜尋鍵值：13\n",
      "[ 2] [ 1] [ 6] [ 5] [ 4] [10] [ 9] [13] [15] [12] [11] [ 8] [16] [ 7] "
     ]
    }
   ],
   "source": [
    "data = int(input('請輸入搜尋鍵值：'))\n",
    "if search(ptr,data) != None: \n",
    "    print('二元樹中有此節點了!')\n",
    "else:\n",
    "    ptr = create_tree(ptr,data)\n",
    "    post_order(ptr)"
   ]
  },
  {
   "cell_type": "code",
   "execution_count": 11,
   "id": "eb1def81",
   "metadata": {},
   "outputs": [
    {
     "name": "stdout",
     "output_type": "stream",
     "text": [
      "請輸入搜尋鍵值：3\n",
      "[ 7] [ 4] [ 1] [ 2] [ 3] [ 5] [ 6] [16] [ 8] [11] [ 9] [10] [12] [15] [13] "
     ]
    }
   ],
   "source": [
    "data = int(input('請輸入搜尋鍵值：'))\n",
    "if search(ptr,data) != None: \n",
    "    print('二元樹中有此節點了!')\n",
    "else:\n",
    "    ptr = create_tree(ptr,data)\n",
    "    pre_order(ptr)"
   ]
  },
  {
   "cell_type": "code",
   "execution_count": null,
   "id": "630526fe",
   "metadata": {},
   "outputs": [],
   "source": []
  }
 ],
 "metadata": {
  "kernelspec": {
   "display_name": "Python 3 (ipykernel)",
   "language": "python",
   "name": "python3"
  },
  "language_info": {
   "codemirror_mode": {
    "name": "ipython",
    "version": 3
   },
   "file_extension": ".py",
   "mimetype": "text/x-python",
   "name": "python",
   "nbconvert_exporter": "python",
   "pygments_lexer": "ipython3",
   "version": "3.7.0"
  }
 },
 "nbformat": 4,
 "nbformat_minor": 5
}
